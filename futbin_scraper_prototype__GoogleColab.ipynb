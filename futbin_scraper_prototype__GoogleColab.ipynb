{
  "nbformat": 4,
  "nbformat_minor": 0,
  "metadata": {
    "colab": {
      "name": "futbin_scraper_prototype.ipynb",
      "provenance": [],
      "authorship_tag": "ABX9TyOQm8R7ncfpnCGXej59vSKq",
      "include_colab_link": true
    },
    "kernelspec": {
      "name": "python3",
      "display_name": "Python 3"
    }
  },
  "cells": [
    {
      "cell_type": "markdown",
      "metadata": {
        "id": "view-in-github",
        "colab_type": "text"
      },
      "source": [
        "<a href=\"https://colab.research.google.com/github/robimalco/futbin_scraper/blob/master/futbin_scraper_prototype.ipynb\" target=\"_parent\"><img src=\"https://colab.research.google.com/assets/colab-badge.svg\" alt=\"Open In Colab\"/></a>"
      ]
    },
    {
      "cell_type": "markdown",
      "metadata": {
        "id": "w2yVnShls2UG",
        "colab_type": "text"
      },
      "source": [
        "# Import libraries"
      ]
    },
    {
      "cell_type": "code",
      "metadata": {
        "id": "3KhwqGnTsjK2",
        "colab_type": "code",
        "colab": {}
      },
      "source": [
        "from bs4 import BeautifulSoup\n",
        "import requests\n",
        "import json\n",
        "import pandas as pd\n",
        "import datetime"
      ],
      "execution_count": 0,
      "outputs": []
    },
    {
      "cell_type": "markdown",
      "metadata": {
        "id": "sOC2D8ultNxF",
        "colab_type": "text"
      },
      "source": [
        "# Extract HTML of the page and convert it to soup"
      ]
    },
    {
      "cell_type": "code",
      "metadata": {
        "id": "F6sA8ZsltRUC",
        "colab_type": "code",
        "colab": {}
      },
      "source": [
        "url = 'https://www.futbin.com/20/player/846/neymar-jr'\n",
        "response_url = requests.get(url)"
      ],
      "execution_count": 0,
      "outputs": []
    },
    {
      "cell_type": "code",
      "metadata": {
        "id": "6EEPCTB6tc_m",
        "colab_type": "code",
        "colab": {}
      },
      "source": [
        "soup_response_url = BeautifulSoup(response_url.text)"
      ],
      "execution_count": 0,
      "outputs": []
    },
    {
      "cell_type": "markdown",
      "metadata": {
        "id": "qyCVcpliurI-",
        "colab_type": "text"
      },
      "source": [
        "# Extract main KPIs for a player"
      ]
    },
    {
      "cell_type": "code",
      "metadata": {
        "id": "pPRWtGGauuE6",
        "colab_type": "code",
        "colab": {}
      },
      "source": [
        "core_kpi_section = soup_response_url.find('div', {'id': 'player_stats_json'}).getText()\n",
        "json_kpi_section = json.loads(core_kpi_section)\n",
        "player_type = 1\n",
        "\n",
        "df_player_kpis = pd.DataFrame(columns=['player_type', 'category', 'kpi_name', 'kpi_value'])\n",
        "\n",
        "for player in json_kpi_section:\n",
        "  for category in player:\n",
        "    for variable in player[category]:\n",
        "      kpi_name = variable['name']\n",
        "      kpi_value = variable['value']\n",
        "      df_player_kpis = df_player_kpis.append({\n",
        "          'player_type': player_type,\n",
        "          'category': category,\n",
        "          'kpi_name': kpi_name,\n",
        "          'kpi_value': kpi_value}, ignore_index=True)\n",
        "  player_type = player_type + 1"
      ],
      "execution_count": 0,
      "outputs": []
    },
    {
      "cell_type": "code",
      "metadata": {
        "id": "rDk6bFY_yf1v",
        "colab_type": "code",
        "colab": {}
      },
      "source": [
        "df_player_kpis.to_csv('output_data.csv')"
      ],
      "execution_count": 0,
      "outputs": []
    },
    {
      "cell_type": "markdown",
      "metadata": {
        "id": "0AT-ZPVq0gcl",
        "colab_type": "text"
      },
      "source": [
        "# Extract Hourly player value"
      ]
    },
    {
      "cell_type": "code",
      "metadata": {
        "id": "t6kD65sp0jED",
        "colab_type": "code",
        "colab": {}
      },
      "source": [
        "# https://www.futbin.com/20/playerGraph?type=today&year=20&player=190871&set_id="
      ],
      "execution_count": 0,
      "outputs": []
    },
    {
      "cell_type": "code",
      "metadata": {
        "id": "fwIDO3O309zA",
        "colab_type": "code",
        "colab": {}
      },
      "source": [
        "player_ids = soup_response_url.find_all('div', {'class': 'pversion'})[1].find('a')['data-resource'].replace('p', '')\n",
        "url_hourly = 'https://www.futbin.com/20/playerGraph?type=today&year=20&player=' + str(player_ids)"
      ],
      "execution_count": 0,
      "outputs": []
    },
    {
      "cell_type": "code",
      "metadata": {
        "id": "MuQQn5qO2HOp",
        "colab_type": "code",
        "colab": {}
      },
      "source": [
        "response_url_hourly = requests.get(url_hourly)\n",
        "soup_response_url_hourly = BeautifulSoup(response_url_hourly.text)"
      ],
      "execution_count": 0,
      "outputs": []
    },
    {
      "cell_type": "code",
      "metadata": {
        "id": "FuqklNdB2W6J",
        "colab_type": "code",
        "colab": {}
      },
      "source": [
        "json_response_url_hourly = json.loads(soup_response_url_hourly.getText())"
      ],
      "execution_count": 0,
      "outputs": []
    },
    {
      "cell_type": "code",
      "metadata": {
        "id": "bwjGIz1J2oRX",
        "colab_type": "code",
        "colab": {}
      },
      "source": [
        "df_player_hourly = pd.DataFrame(columns=['console', 'time', 'value'])\n",
        "for console in json_response_url_hourly:\n",
        "  for data_point in json_response_url_hourly[console]:\n",
        "    df_player_hourly = df_player_hourly.append({\n",
        "        'console': console,\n",
        "        'time': datetime.datetime.fromtimestamp(data_point[0] / 1000).strftime('%c'),\n",
        "        'value': data_point[1]}, ignore_index=True)\n",
        "df_player_hourly"
      ],
      "execution_count": 0,
      "outputs": []
    }
  ]
}
